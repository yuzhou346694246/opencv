{
 "cells": [
  {
   "cell_type": "code",
   "execution_count": 1,
   "metadata": {},
   "outputs": [],
   "source": [
    "import cv2\n",
    "import numpy as np"
   ]
  },
  {
   "cell_type": "code",
   "execution_count": 2,
   "metadata": {},
   "outputs": [],
   "source": [
    "logo = cv2.imread('opencv-logo.png')"
   ]
  },
  {
   "cell_type": "markdown",
   "metadata": {},
   "source": [
    "### 2D卷积操作（blur模糊操作）"
   ]
  },
  {
   "cell_type": "code",
   "execution_count": 17,
   "metadata": {},
   "outputs": [],
   "source": [
    "kernel_identity = np.array([[0,0,0],[0,1,0],[0,0,0,]])\n",
    "kernel_3x3 = np.ones((3,3), np.float32) / 9.0\n",
    "kernel_5x5 = np.ones((5,5), np.float32) /25.0\n",
    "kernel_7x7 = np.ones((5,5), np.float32) /25.0"
   ]
  },
  {
   "cell_type": "code",
   "execution_count": 20,
   "metadata": {},
   "outputs": [],
   "source": [
    "#filter2D -1代表卷积深度，表示与源图像相同\n",
    "identity = cv2.filter2D(logo,-1,kernel_identity)\n",
    "img_3x3 = cv2.filter2D(logo, -1, kernel_3x3)\n",
    "img_5x5 = cv2.filter2D(logo, -1, kernel_5x5)\n",
    "img_7x7 = cv2.filter2D(logo, -1, kernel_7x7)\n",
    "cv2.imshow('orginal', logo)\n",
    "cv2.imshow('identity', identity)\n",
    "cv2.imshow('3x3', img_3x3)\n",
    "cv2.imshow('5x5', img_5x5)\n",
    "cv2.imshow('7x7', img_7x7)\n",
    "cv2.waitKey(0)\n",
    "cv2.destroyAllWindows()"
   ]
  },
  {
   "cell_type": "markdown",
   "metadata": {},
   "source": [
    "上面几个卷积核,kernel_identity是一个3x3，中心为1，其余8个点都为0卷积核心，它不会影响到图像数据。而后面几个全为1的卷积核，会平均化周围的数值，形成模糊效果。卷积核越大，模糊的范围也越大。这种将图像造成模糊的方法，有什么作用呢？一个很大的作用就是，去噪声。"
   ]
  },
  {
   "cell_type": "code",
   "execution_count": 21,
   "metadata": {},
   "outputs": [],
   "source": [
    "## opencv提供了模糊卷积的功能，所以我们没有必要自己编写卷积核\n",
    "output = cv2.blur(logo,(3,3))\n",
    "cv2.imshow('blur',output)\n",
    "cv2.imshow('img_3x3',img_3x3)#这两个效果是一样的\n",
    "cv2.waitKey(0)\n",
    "cv2.destroyAllWindows()"
   ]
  },
  {
   "cell_type": "code",
   "execution_count": 22,
   "metadata": {},
   "outputs": [
    {
     "name": "stdout",
     "output_type": "stream",
     "text": [
      "Help on built-in function GaussianBlur:\n",
      "\n",
      "GaussianBlur(...)\n",
      "    GaussianBlur(src, ksize, sigmaX[, dst[, sigmaY[, borderType]]]) -> dst\n",
      "    .   @brief Blurs an image using a Gaussian filter.\n",
      "    .   \n",
      "    .   The function convolves the source image with the specified Gaussian kernel. In-place filtering is\n",
      "    .   supported.\n",
      "    .   \n",
      "    .   @param src input image; the image can have any number of channels, which are processed\n",
      "    .   independently, but the depth should be CV_8U, CV_16U, CV_16S, CV_32F or CV_64F.\n",
      "    .   @param dst output image of the same size and type as src.\n",
      "    .   @param ksize Gaussian kernel size. ksize.width and ksize.height can differ but they both must be\n",
      "    .   positive and odd. Or, they can be zero's and then they are computed from sigma.\n",
      "    .   @param sigmaX Gaussian kernel standard deviation in X direction.\n",
      "    .   @param sigmaY Gaussian kernel standard deviation in Y direction; if sigmaY is zero, it is set to be\n",
      "    .   equal to sigmaX, if both sigmas are zeros, they are computed from ksize.width and ksize.height,\n",
      "    .   respectively (see #getGaussianKernel for details); to fully control the result regardless of\n",
      "    .   possible future modifications of all this semantics, it is recommended to specify all of ksize,\n",
      "    .   sigmaX, and sigmaY.\n",
      "    .   @param borderType pixel extrapolation method, see #BorderTypes\n",
      "    .   \n",
      "    .   @sa  sepFilter2D, filter2D, blur, boxFilter, bilateralFilter, medianBlur\n",
      "\n"
     ]
    }
   ],
   "source": [
    "help(cv2.GaussianBlur)"
   ]
  },
  {
   "cell_type": "code",
   "execution_count": 28,
   "metadata": {},
   "outputs": [],
   "source": [
    "gaussian = cv2.GaussianBlur(logo,(5,5),1,1)\n",
    "cv2.imshow('GaussianBlur',gaussian)\n",
    "cv2.waitKey(0)\n",
    "cv2.destroyAllWindows()"
   ]
  },
  {
   "cell_type": "markdown",
   "metadata": {},
   "source": [
    "高斯模糊的思想与上面的不一样，上面的卷积核各个核的权重都是相等的（都是1）。而高斯模糊就不是这个样子，离卷积中心越远，其权重就越低，当然整个权重之和还是1."
   ]
  },
  {
   "cell_type": "markdown",
   "metadata": {},
   "source": [
    "### 边缘检测卷积核"
   ]
  },
  {
   "cell_type": "code",
   "execution_count": 8,
   "metadata": {},
   "outputs": [],
   "source": [
    "Sx = np.array([[-1,0,1],[-2,0,2],[-1,0,1]])\n",
    "Sy = np.array([[-1,-2,-1],[0,0,0],[1,2,1]])"
   ]
  },
  {
   "cell_type": "code",
   "execution_count": 9,
   "metadata": {},
   "outputs": [],
   "source": [
    "s_x = cv2.filter2D(logo,-1,Sx)\n",
    "s_y = cv2.filter2D(logo,-1,Sy)"
   ]
  },
  {
   "cell_type": "code",
   "execution_count": 10,
   "metadata": {},
   "outputs": [],
   "source": [
    "cv2.imshow('Original', logo)\n",
    "cv2.imshow('S_X', s_x)\n",
    "cv2.imshow('S_Y', s_y)\n",
    "cv2.waitKey(0)\n",
    "cv2.destroyAllWindows()"
   ]
  },
  {
   "cell_type": "markdown",
   "metadata": {},
   "source": [
    "显然上面的卷积不能使我们得到完整的边缘检测"
   ]
  },
  {
   "cell_type": "code",
   "execution_count": 11,
   "metadata": {},
   "outputs": [],
   "source": [
    "#在opencv中可以直接调用Sobel算子\n",
    "img = cv2.cvtColor(logo,cv2.COLOR_BGR2GRAY)\n",
    "sobel_x = cv2.Sobel(img, cv2.CV_64F,1,0,ksize=3)\n",
    "sobel_y = cv2.Sobel(img, cv2.CV_64F,0,1,ksize=3)\n",
    "\n",
    "cv2.imshow('Original', img)\n",
    "cv2.imshow('Sobel x', sobel_x)\n",
    "cv2.imshow('Sobel y', sobel_y)\n",
    "cv2.waitKey(0)\n",
    "cv2.destroyAllWindows()\n",
    "##这个效果要比上面好多了,但是依然不行"
   ]
  },
  {
   "cell_type": "markdown",
   "metadata": {},
   "source": [
    "Sobel算子的缺陷还是很明显的，只能在水平和垂直方向分别检测到边缘，使用Laplacian能很好的克服这个缺点"
   ]
  },
  {
   "cell_type": "code",
   "execution_count": 13,
   "metadata": {},
   "outputs": [],
   "source": [
    "laplacian = cv2.Laplacian(img, cv2.CV_64F)\n",
    "cv2.imshow('laplacian',laplacian)\n",
    "cv2.waitKey(0)\n",
    "cv2.destroyAllWindows()"
   ]
  },
  {
   "cell_type": "markdown",
   "metadata": {},
   "source": [
    "laplacian算子对于简单的形状效果不错，但是对于复杂的目标，其存在边缘检测细节过多的问题。Canny算子质量会更好。Canny是基于梯度的，它由两个参数，一个高梯度，一个低梯度。当梯度值大于高梯度时，就标记为边缘（强），然后追踪梯度小于低梯度的边。但这些值越大时，梯度小的边将会抛弃。\n"
   ]
  },
  {
   "cell_type": "code",
   "execution_count": 16,
   "metadata": {},
   "outputs": [],
   "source": [
    "canny  = cv2.Canny(img, 100, 240)\n",
    "cv2.imshow('canny',canny)\n",
    "cv2.imshow('laplacian',laplacian)\n",
    "cv2.waitKey(0)\n",
    "cv2.destroyAllWindows()"
   ]
  },
  {
   "cell_type": "code",
   "execution_count": 28,
   "metadata": {},
   "outputs": [],
   "source": [
    "girl = cv2.imread('girl.jpg')\n",
    "girl = cv2.cvtColor(girl,cv2.COLOR_BGR2GRAY)\n",
    "girl_edge = cv2.Canny(girl,30,100)#增加细节\n",
    "#girl_laplacian = cv2.Laplacian(girl, cv2.CV_64F)\n",
    "girl_edge100 = cv2.Canny(girl,100,200)\n",
    "cv2.imshow('girl',girl)\n",
    "#cv2.imshow('girl_laplacian',girl_laplacian)\n",
    "cv2.imshow('girl_edge',girl_edge)\n",
    "cv2.imshow('girl_edge100',girl_edge100)\n",
    "cv2.waitKey(0)\n",
    "cv2.destroyAllWindows()"
   ]
  },
  {
   "cell_type": "code",
   "execution_count": null,
   "metadata": {},
   "outputs": [],
   "source": []
  }
 ],
 "metadata": {
  "kernelspec": {
   "display_name": "Python 3",
   "language": "python",
   "name": "python3"
  },
  "language_info": {
   "codemirror_mode": {
    "name": "ipython",
    "version": 3
   },
   "file_extension": ".py",
   "mimetype": "text/x-python",
   "name": "python",
   "nbconvert_exporter": "python",
   "pygments_lexer": "ipython3",
   "version": "3.7.1"
  }
 },
 "nbformat": 4,
 "nbformat_minor": 2
}
