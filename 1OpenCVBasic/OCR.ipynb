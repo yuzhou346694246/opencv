{
 "cells": [
  {
   "cell_type": "code",
   "execution_count": 1,
   "metadata": {},
   "outputs": [],
   "source": [
    "import cv2\n",
    "import sys\n",
    "import pytesseract"
   ]
  },
  {
   "cell_type": "code",
   "execution_count": 2,
   "metadata": {},
   "outputs": [],
   "source": [
    "img = cv2.imread(\"dongge.png\")"
   ]
  },
  {
   "cell_type": "code",
   "execution_count": 3,
   "metadata": {},
   "outputs": [
    {
     "data": {
      "text/plain": [
       "-1"
      ]
     },
     "execution_count": 3,
     "metadata": {},
     "output_type": "execute_result"
    }
   ],
   "source": [
    "cv2.imshow('Dongge',img)\n",
    "cv2.waitKey(0)"
   ]
  },
  {
   "cell_type": "code",
   "execution_count": 3,
   "metadata": {},
   "outputs": [],
   "source": [
    "config = ('-l eng --oem 1 --psm 3')"
   ]
  },
  {
   "cell_type": "markdown",
   "metadata": {},
   "source": [
    " ### OCR Engine Mode（模型选择）\n",
    " \n",
    "  0    Legacy engine only.\n",
    "  \n",
    "  1    Neural nets LSTM engine only.\n",
    "  \n",
    "  2    Legacy + LSTM engines.\n",
    "  \n",
    "  3    Default, based on what is available.\n",
    "  // 输入命令，查看psm的参数\n",
    "\n",
    "### tesseract --help-psm\n",
    "\n",
    "  0    Orientation and script detection (OSD) only.\n",
    "\n",
    "  1    Automatic page segmentation with OSD.\n",
    "\n",
    "  2    Automatic page segmentation, but no OSD, or OCR.\n",
    "\n",
    "  3    Fully automatic page segmentation, but no OSD. (Default)\n",
    "\n",
    "  4    Assume a single column of text of variable sizes.\n",
    "\n",
    "  5    Assume a single uniform block of vertically aligned text.\n",
    "\n",
    "  6    Assume a single uniform block of text.\n",
    "\n",
    "  7    Treat the image as a single text line.\n",
    "\n",
    "  8    Treat the image as a single word.\n",
    "\n",
    "  9    Treat the image as a single word in a circle.\n",
    "\n",
    "10    Treat the image as a single character.\n",
    "\n",
    "翻译:\n",
    "\n",
    "0 定向脚本监测（OSD）\n",
    "\n",
    "1 使用OSD自动分页\n",
    "\n",
    "2 自动分页，但是不使用OSD或OCR（Optical Character Recognition，光学字符识别）\n",
    "\n",
    "3 全自动分页，但是没有使用OSD（默认）\n",
    "\n",
    "4 假设可变大小的一个文本列。\n",
    "\n",
    "5 假设垂直对齐文本的单个统一块。\n",
    "\n",
    "6 假设一个统一的文本块。\n",
    "\n",
    "7 将图像视为单个文本行。\n",
    "\n",
    "8 将图像视为单个词。\n",
    "\n",
    "9 将图像视为圆中的单个词。\n",
    "\n",
    "10 将图像视为单个字符\n"
   ]
  },
  {
   "cell_type": "code",
   "execution_count": 4,
   "metadata": {},
   "outputs": [],
   "source": [
    "pytesseract.pytesseract.tesseract_cmd = r'C:\\Program Files\\Tesseract-OCR\\tesseract.exe'"
   ]
  },
  {
   "cell_type": "code",
   "execution_count": 5,
   "metadata": {},
   "outputs": [
    {
     "name": "stdout",
     "output_type": "stream",
     "text": [
      "Dongge\n"
     ]
    }
   ],
   "source": [
    "text = pytesseract.image_to_string(img, config=config)\n",
    "print(text)"
   ]
  },
  {
   "cell_type": "code",
   "execution_count": 12,
   "metadata": {},
   "outputs": [
    {
     "name": "stdout",
     "output_type": "stream",
     "text": [
      "一二三四\n",
      "一二三四\n"
     ]
    }
   ],
   "source": [
    "img1 = cv2.imread(\"1.webp\")\n",
    "config1 = ('-l chi_sim --oem 1 --psm 6')\n",
    "text = pytesseract.image_to_string(img1, config=config1)\n",
    "print(text)"
   ]
  },
  {
   "cell_type": "code",
   "execution_count": 16,
   "metadata": {},
   "outputs": [
    {
     "name": "stdout",
     "output_type": "stream",
     "text": [
      "儿乐\n"
     ]
    }
   ],
   "source": [
    "img2 = cv2.imread(\"dongge-chs.png\")\n",
    "config1 = ('-l chi_sim --oem 1 --psm 6')\n",
    "text = pytesseract.image_to_string(img2, config=config1)\n",
    "print(text)"
   ]
  },
  {
   "cell_type": "code",
   "execution_count": 9,
   "metadata": {},
   "outputs": [],
   "source": [
    "import subprocess"
   ]
  },
  {
   "cell_type": "code",
   "execution_count": null,
   "metadata": {},
   "outputs": [],
   "source": []
  }
 ],
 "metadata": {
  "kernelspec": {
   "display_name": "Python 3",
   "language": "python",
   "name": "python3"
  },
  "language_info": {
   "codemirror_mode": {
    "name": "ipython",
    "version": 3
   },
   "file_extension": ".py",
   "mimetype": "text/x-python",
   "name": "python",
   "nbconvert_exporter": "python",
   "pygments_lexer": "ipython3",
   "version": "3.7.1"
  }
 },
 "nbformat": 4,
 "nbformat_minor": 2
}
